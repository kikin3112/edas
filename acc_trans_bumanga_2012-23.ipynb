{
 "cells": [
  {
   "cell_type": "code",
   "execution_count": null,
   "metadata": {},
   "outputs": [],
   "source": [
    "# librerías importantes\n",
    "\n",
    "#%matplotlib inline\n",
    "import numpy as np #for numerical\n",
    "import pandas as pd #for datasets management\n",
    "import seaborn as sns #for plots\n",
    "import matplotlib.pyplot as plt #for show plots"
   ]
  },
  {
   "attachments": {},
   "cell_type": "markdown",
   "metadata": {},
   "source": [
    "# 0. Load data"
   ]
  },
  {
   "cell_type": "code",
   "execution_count": null,
   "metadata": {},
   "outputs": [],
   "source": [
    "# cargar base de datos a trabajar:\n",
    "# ACCIDENTES DE TRANSITO EN B/MANGA\n",
    "# DESDE 2012 A 2023\n",
    "\n",
    "db_original = 'clean_ACCIDENTES_TRANSITO_BMANGA_ENERO_2012_FEBRERO_2023.csv'\n",
    "db = pd.read_csv(db_original)"
   ]
  },
  {
   "attachments": {},
   "cell_type": "markdown",
   "metadata": {},
   "source": [
    "# 1. Understanding data"
   ]
  },
  {
   "cell_type": "code",
   "execution_count": null,
   "metadata": {},
   "outputs": [],
   "source": [
    "# ver datos\n",
    "\n",
    "db.head()"
   ]
  },
  {
   "cell_type": "code",
   "execution_count": null,
   "metadata": {},
   "outputs": [],
   "source": [
    "# características de los datos\n",
    "\n",
    "print(db.columns) #nombre de columnas\n",
    "print(db.dtypes) #tipos de datos en cada una de las columnas\n",
    "print(db.shape) #cantidad de filas y columnas"
   ]
  },
  {
   "cell_type": "code",
   "execution_count": null,
   "metadata": {},
   "outputs": [],
   "source": [
    "# chequeo de valores faltantes\n",
    "\n",
    "pd.isnull(db).sum()"
   ]
  },
  {
   "attachments": {},
   "cell_type": "markdown",
   "metadata": {},
   "source": [
    "# 2. Cleaning data"
   ]
  },
  {
   "cell_type": "code",
   "execution_count": null,
   "metadata": {},
   "outputs": [],
   "source": [
    "# cambios en los datos (cleaning):\n",
    "# conversión de datos cualitativos\n",
    "# a cuantitativos\n",
    "\n",
    "# columna D: MES -> MES_new\n",
    "db['MES_new'] = db.MES.replace({'01. Enero': 'Enero',\n",
    "                                '02. Febrero': 'Febrero',\n",
    "                                '03. Marzo': 'Marzo',\n",
    "                                '04. Abril': 'Abril',\n",
    "                                '05. Mayo': 'Mayo',\n",
    "                                '06. Junio': 'Junio',\n",
    "                                '07. Julio': 'Julio',\n",
    "                                '08. Agosto': 'Agosto',\n",
    "                                '09. Septiembre': 'Septiembre',\n",
    "                                '10. Octubre': 'Octubre',\n",
    "                                '11. Noviembre': 'Noviembre',\n",
    "                                '12. Diciembre': 'Diciembre'\n",
    "                                })\n",
    "#db.MES_new.value_counts()\n",
    "\n",
    "# columna E: DIA -> DIA_new\n",
    "db['DIA_new'] = db.DIA.replace({'01. Lunes': 'Lunes',\n",
    "                                '02. Martes': 'Martes',\n",
    "                                '03. Miercoles': 'Miércoles',\n",
    "                                '04. Jueves': 'Jueves',\n",
    "                                '05. Viernes': 'Viernes',\n",
    "                                '06. Sabado': 'Sábado',\n",
    "                                '07. Domingo': 'Domingo'})\n",
    "#db.DIA_new.value_counts()\n",
    "\n",
    "# columna F: GRAVEDAD -> GRAVEDAD_new\n",
    "db['GRAVEDAD_new'] = db.GRAVEDAD.replace({'Solo Daños': 1,\n",
    "                                          'Con Heridos': 2,\n",
    "                                          'Con Muertos': 3})\n",
    "#db.GRAVEDAD_new.value_counts()"
   ]
  },
  {
   "cell_type": "code",
   "execution_count": null,
   "metadata": {},
   "outputs": [],
   "source": [
    "# handling NaN's:\n",
    "\n",
    "# columna U: HORA\n",
    "db['HORA_new'] = db.HORA.fillna('NO INFORMA')\n",
    "#db.HORA_new.value_counts().sum()\n",
    "\n",
    "# columna V: ENTIDAD\n",
    "db['ENTIDAD_new'] = db.ENTIDAD.fillna('NO INFORMA')\n",
    "#db.ENTIDAD_new.value_counts().sum()\n"
   ]
  },
  {
   "cell_type": "code",
   "execution_count": null,
   "metadata": {},
   "outputs": [],
   "source": [
    "db_clean = db.drop(['HORA RESTRICCION MOTO', # drop useless column\n",
    "         'MES', # drop antique columns\n",
    "         'DIA',\n",
    "         'GRAVEDAD',\n",
    "         'HORA',\n",
    "         'ENTIDAD'], axis=1)\n",
    "\n",
    "print(db_clean.dtypes)"
   ]
  },
  {
   "cell_type": "code",
   "execution_count": null,
   "metadata": {},
   "outputs": [],
   "source": [
    "# vemos nuestros nuevos datos\n",
    "\n",
    "db_clean.head()"
   ]
  },
  {
   "cell_type": "code",
   "execution_count": null,
   "metadata": {},
   "outputs": [],
   "source": [
    "# describir variables cuantitativas\n",
    "\n",
    "db_clean.describe()"
   ]
  },
  {
   "attachments": {},
   "cell_type": "markdown",
   "metadata": {},
   "source": [
    "# 3. Visualizing data and interpreting"
   ]
  },
  {
   "cell_type": "code",
   "execution_count": null,
   "metadata": {},
   "outputs": [],
   "source": [
    "auto = db_clean['AUTOMOVIL']"
   ]
  },
  {
   "cell_type": "code",
   "execution_count": null,
   "metadata": {},
   "outputs": [],
   "source": [
    "sns.distplot(auto, kde = False).set_title(\"Histograma de Automóvil\")\n",
    "plt.show()"
   ]
  },
  {
   "cell_type": "code",
   "execution_count": null,
   "metadata": {},
   "outputs": [],
   "source": [
    "sns.boxplot(db_clean[\"AUTOMOVIL\"]).set_title(\"Box plot de Automóvil\")\n",
    "plt.show()"
   ]
  },
  {
   "cell_type": "code",
   "execution_count": null,
   "metadata": {},
   "outputs": [],
   "source": [
    "plt.figure(figsize=(15, 10)) #for wider\n",
    "sns.boxplot(data = db_clean.loc[:, ['PEATON',\n",
    "                                    'AUTOMOVIL',\n",
    "                                    'CAMPAERO',\n",
    "                                    'CAMIONETA',\n",
    "                                    'MICRO',\n",
    "                                    'BUSETA',\n",
    "                                    'BUS',\n",
    "                                    'CAMION',\n",
    "                                    'VOLQUETA',\n",
    "                                    'MOTO',\n",
    "                                    'BICICLETA',\n",
    "                                    'OTRO']])"
   ]
  },
  {
   "cell_type": "code",
   "execution_count": null,
   "metadata": {},
   "outputs": [],
   "source": [
    "# Create a boxplot and histogram of the tips grouped by time of day\n",
    "sns.boxplot(x = db_clean[\"AUTOMOVIL\"], y = db_clean[\"MOMENTO\"])\n",
    "\n",
    "auto = sns.FacetGrid(db_clean, row = \"MOMENTO\")\n",
    "auto = auto.map(plt.hist, \"AUTOMOVIL\")\n",
    "plt.show()"
   ]
  },
  {
   "cell_type": "code",
   "execution_count": null,
   "metadata": {},
   "outputs": [],
   "source": [
    "# Create a boxplot and histogram of the tips grouped by time of day\n",
    "sns.boxplot(x = db_clean[\"MOTO\"], y = db_clean[\"MOMENTO\"])\n",
    "\n",
    "moto = sns.FacetGrid(db_clean, row = \"MOMENTO\")\n",
    "moto = moto.map(plt.hist, \"MOTO\")\n",
    "plt.show()"
   ]
  },
  {
   "cell_type": "code",
   "execution_count": null,
   "metadata": {},
   "outputs": [],
   "source": [
    "# Create a boxplot and histogram of the tips grouped by time of day\n",
    "sns.boxplot(x = db_clean[\"PEATON\"], y = db_clean[\"MOMENTO\"])\n",
    "\n",
    "peaton = sns.FacetGrid(db_clean, row = \"MOMENTO\")\n",
    "peaton = peaton.map(plt.hist, \"PEATON\")\n",
    "plt.show()"
   ]
  },
  {
   "cell_type": "code",
   "execution_count": null,
   "metadata": {},
   "outputs": [],
   "source": [
    "#Haga el favor de interpretar (Video hitogramas boxplot y todo eso, semana 2)"
   ]
  }
 ],
 "metadata": {
  "kernelspec": {
   "display_name": "base",
   "language": "python",
   "name": "python3"
  },
  "language_info": {
   "codemirror_mode": {
    "name": "ipython",
    "version": 3
   },
   "file_extension": ".py",
   "mimetype": "text/x-python",
   "name": "python",
   "nbconvert_exporter": "python",
   "pygments_lexer": "ipython3",
   "version": "3.10.9"
  },
  "orig_nbformat": 4
 },
 "nbformat": 4,
 "nbformat_minor": 2
}
